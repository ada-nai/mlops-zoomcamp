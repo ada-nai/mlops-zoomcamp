{
 "cells": [
  {
   "cell_type": "code",
   "execution_count": null,
   "id": "b2bd82d7",
   "metadata": {},
   "outputs": [],
   "source": [
    "!python -V"
   ]
  },
  {
   "cell_type": "code",
   "execution_count": null,
   "id": "22772c40",
   "metadata": {},
   "outputs": [],
   "source": [
    "# %pip install pandas scikit-learn seaborn matplotlib\n",
    "# %pip install pyarrow"
   ]
  },
  {
   "cell_type": "code",
   "execution_count": 1,
   "id": "41062d8a",
   "metadata": {},
   "outputs": [],
   "source": [
    "import pandas as pd\n",
    "import pickle\n",
    "import seaborn as sns\n",
    "import matplotlib.pyplot as plt"
   ]
  },
  {
   "cell_type": "code",
   "execution_count": 2,
   "id": "92511d0a",
   "metadata": {},
   "outputs": [
    {
     "data": {
      "text/plain": [
       "<Experiment: artifact_location='mlflow-artifacts:/1', creation_time=1716299356316, experiment_id='1', last_update_time=1716299356316, lifecycle_stage='active', name='taxi_test', tags={}>"
      ]
     },
     "execution_count": 2,
     "metadata": {},
     "output_type": "execute_result"
    }
   ],
   "source": [
    "import mlflow\n",
    "\n",
    "mlflow.set_tracking_uri(\"http://localhost:5000\")\n",
    "mlflow.set_experiment(\"taxi_test\")"
   ]
  },
  {
   "cell_type": "code",
   "execution_count": 3,
   "id": "8b135c2b",
   "metadata": {},
   "outputs": [],
   "source": [
    "from sklearn.feature_extraction import DictVectorizer\n",
    "from sklearn.linear_model import LinearRegression\n",
    "from sklearn.linear_model import Lasso\n",
    "from sklearn.linear_model import Ridge\n",
    "\n",
    "from sklearn.metrics import mean_squared_error"
   ]
  },
  {
   "cell_type": "code",
   "execution_count": 4,
   "id": "8e013caf",
   "metadata": {},
   "outputs": [],
   "source": [
    "df = pd.read_parquet('../1-intro/data/yellow_tripdata_2023-01.parquet')\n",
    "\n",
    "df['duration'] = df.tpep_dropoff_datetime - df.tpep_pickup_datetime\n",
    "df.duration = df.duration.apply(lambda td: td.total_seconds() / 60)\n",
    "\n",
    "df = df[(df.duration >= 1) & (df.duration <= 60)]\n",
    "\n",
    "categorical = ['PULocationID', 'DOLocationID']\n",
    "numerical = ['trip_distance']\n",
    "\n",
    "df[categorical] = df[categorical].astype(str)"
   ]
  },
  {
   "cell_type": "code",
   "execution_count": 5,
   "id": "116ff0cc",
   "metadata": {},
   "outputs": [
    {
     "name": "stderr",
     "output_type": "stream",
     "text": [
      "/home/wsl/mlops-zoomcamp/mlz_env/lib/python3.10/site-packages/sklearn/metrics/_regression.py:483: FutureWarning: 'squared' is deprecated in version 1.4 and will be removed in 1.6. To calculate the root mean squared error, use the function'root_mean_squared_error'.\n",
      "  warnings.warn(\n"
     ]
    },
    {
     "data": {
      "text/plain": [
       "7.658402495024129"
      ]
     },
     "execution_count": 5,
     "metadata": {},
     "output_type": "execute_result"
    }
   ],
   "source": [
    "train_dicts = df[categorical + numerical].to_dict(orient='records')\n",
    "\n",
    "dv = DictVectorizer()\n",
    "X_train = dv.fit_transform(train_dicts)\n",
    "\n",
    "target = 'duration'\n",
    "y_train = df[target].values\n",
    "\n",
    "lr = LinearRegression()\n",
    "lr.fit(X_train, y_train)\n",
    "\n",
    "y_pred = lr.predict(X_train)\n",
    "\n",
    "mean_squared_error(y_train, y_pred, squared=False)"
   ]
  },
  {
   "cell_type": "code",
   "execution_count": 6,
   "id": "f9e6479e",
   "metadata": {},
   "outputs": [],
   "source": [
    "def read_dataframe(filename):\n",
    "    if filename.endswith('.csv'):\n",
    "        df = pd.read_csv(filename)\n",
    "\n",
    "        df.lpep_dropoff_datetime = pd.to_datetime(df.tpep_dropoff_datetime)\n",
    "        df.lpep_pickup_datetime = pd.to_datetime(df.tpep_pickup_datetime)\n",
    "    elif filename.endswith('.parquet'):\n",
    "        df = pd.read_parquet(filename)\n",
    "\n",
    "    df['duration'] = df.tpep_dropoff_datetime - df.tpep_pickup_datetime\n",
    "    df.duration = df.duration.apply(lambda td: td.total_seconds() / 60)\n",
    "\n",
    "    df = df[(df.duration >= 1) & (df.duration <= 60)]\n",
    "\n",
    "    categorical = ['PULocationID', 'DOLocationID']\n",
    "    df[categorical] = df[categorical].astype(str)\n",
    "    \n",
    "    return df"
   ]
  },
  {
   "cell_type": "code",
   "execution_count": 14,
   "id": "debe161c",
   "metadata": {},
   "outputs": [],
   "source": [
    "train_path= '../1-intro/data/yellow_tripdata_2023-02.parquet'\n",
    "val_path = '../1-intro/data/yellow_tripdata_2023-01.parquet'"
   ]
  },
  {
   "cell_type": "code",
   "execution_count": 7,
   "id": "8029eba0",
   "metadata": {},
   "outputs": [],
   "source": [
    "\n",
    "\n",
    "df_train = read_dataframe(train_path)\n",
    "df_val = read_dataframe(val_path)"
   ]
  },
  {
   "cell_type": "code",
   "execution_count": 8,
   "id": "f6f2f0eb",
   "metadata": {},
   "outputs": [
    {
     "data": {
      "text/plain": [
       "(2855951, 3009173)"
      ]
     },
     "execution_count": 8,
     "metadata": {},
     "output_type": "execute_result"
    }
   ],
   "source": [
    "len(df_train), len(df_val)"
   ]
  },
  {
   "cell_type": "code",
   "execution_count": 9,
   "id": "951d51ef",
   "metadata": {},
   "outputs": [],
   "source": [
    "df_train['PU_DO'] = df_train['PULocationID'] + '_' + df_train['DOLocationID']\n",
    "df_val['PU_DO'] = df_val['PULocationID'] + '_' + df_val['DOLocationID']"
   ]
  },
  {
   "cell_type": "code",
   "execution_count": 10,
   "id": "c5cbfc25",
   "metadata": {},
   "outputs": [],
   "source": [
    "categorical = ['PU_DO'] #'PULocationID', 'DOLocationID']\n",
    "numerical = ['trip_distance']\n",
    "\n",
    "dv = DictVectorizer()\n",
    "\n",
    "train_dicts = df_train[categorical + numerical].to_dict(orient='records')\n",
    "X_train = dv.fit_transform(train_dicts)\n",
    "\n",
    "val_dicts = df_val[categorical + numerical].to_dict(orient='records')\n",
    "X_val = dv.transform(val_dicts)"
   ]
  },
  {
   "cell_type": "code",
   "execution_count": 11,
   "id": "1e9fb68b",
   "metadata": {},
   "outputs": [],
   "source": [
    "target = 'duration'\n",
    "y_train = df_train[target].values\n",
    "y_val = df_val[target].values"
   ]
  },
  {
   "cell_type": "code",
   "execution_count": 12,
   "id": "429e2394",
   "metadata": {},
   "outputs": [
    {
     "name": "stderr",
     "output_type": "stream",
     "text": [
      "/home/wsl/mlops-zoomcamp/mlz_env/lib/python3.10/site-packages/sklearn/metrics/_regression.py:483: FutureWarning: 'squared' is deprecated in version 1.4 and will be removed in 1.6. To calculate the root mean squared error, use the function'root_mean_squared_error'.\n",
      "  warnings.warn(\n"
     ]
    },
    {
     "data": {
      "text/plain": [
       "5.22653480470865"
      ]
     },
     "execution_count": 12,
     "metadata": {},
     "output_type": "execute_result"
    }
   ],
   "source": [
    "lr = LinearRegression()\n",
    "lr.fit(X_train, y_train)\n",
    "\n",
    "y_pred = lr.predict(X_val)\n",
    "\n",
    "mean_squared_error(y_val, y_pred, squared=False)"
   ]
  },
  {
   "cell_type": "code",
   "execution_count": 29,
   "id": "e7b94ecd",
   "metadata": {},
   "outputs": [],
   "source": [
    "model_path= 'models/lin_reg.bin'\n"
   ]
  },
  {
   "cell_type": "code",
   "execution_count": 30,
   "id": "22bf6f8b",
   "metadata": {},
   "outputs": [],
   "source": [
    "with open(model_path, 'wb') as f_out:\n",
    "    pickle.dump((dv, lr), f_out)"
   ]
  },
  {
   "cell_type": "code",
   "execution_count": 33,
   "id": "3d673273",
   "metadata": {},
   "outputs": [],
   "source": [
    "mlflow.log_artifact(local_path= model_path, artifact_path= 'artifact_models')"
   ]
  },
  {
   "cell_type": "code",
   "execution_count": 16,
   "id": "a4999b94",
   "metadata": {},
   "outputs": [
    {
     "name": "stderr",
     "output_type": "stream",
     "text": [
      "/home/wsl/mlops-zoomcamp/mlz_env/lib/python3.10/site-packages/sklearn/metrics/_regression.py:483: FutureWarning: 'squared' is deprecated in version 1.4 and will be removed in 1.6. To calculate the root mean squared error, use the function'root_mean_squared_error'.\n",
      "  warnings.warn(\n"
     ]
    }
   ],
   "source": [
    "with mlflow.start_run():\n",
    "    mlflow.set_tag(\"week2\", \"adanai\")\n",
    "    \n",
    "    mlflow.log_param(\"train_data_path\", train_path)\n",
    "    mlflow.log_param(\"val_data_path\", val_path)\n",
    "    \n",
    "    alpha= 0.1\n",
    "    mlflow.log_param(\"alpha\", alpha)    \n",
    "\n",
    "    lr = Lasso(alpha= alpha, max_iter= 5)\n",
    "    lr.fit(X_train, y_train)\n",
    "\n",
    "    y_pred = lr.predict(X_val)\n",
    "\n",
    "    rmse= mean_squared_error(y_val, y_pred, squared=False)\n",
    "    mlflow.log_metric(\"rmse\", rmse)"
   ]
  },
  {
   "cell_type": "markdown",
   "id": "365ff89d",
   "metadata": {},
   "source": [
    "# 2.3 hyperopt with xgboost"
   ]
  },
  {
   "cell_type": "code",
   "execution_count": 19,
   "id": "47b0eb9b",
   "metadata": {},
   "outputs": [],
   "source": [
    "import xgboost as xgb\n",
    "\n",
    "from hyperopt import fmin, tpe, hp, STATUS_OK, Trials\n",
    "from hyperopt.pyll import scope"
   ]
  },
  {
   "cell_type": "code",
   "execution_count": 20,
   "id": "457886eb",
   "metadata": {},
   "outputs": [],
   "source": [
    "train = xgb.DMatrix(X_train, label= y_train)\n",
    "valid = xgb.DMatrix(X_val, label= y_val)"
   ]
  },
  {
   "cell_type": "code",
   "execution_count": 21,
   "id": "62ca4104",
   "metadata": {},
   "outputs": [],
   "source": [
    "def objective(params):\n",
    "    with mlflow.start_run():\n",
    "        mlflow.set_tag('model', 'xgb')\n",
    "        mlflow.log_params(params)\n",
    "        booster = xgb.train(\n",
    "            params = params,\n",
    "            dtrain= train,\n",
    "            num_boost_round= 20,\n",
    "            evals= [(valid, 'validation')],\n",
    "            early_stopping_rounds= 7)\n",
    "        y_pred = booster.predict(valid)\n",
    "        rmse= mean_squared_error(y_val, y_pred, squared= False)\n",
    "        mlflow.log_metric(\"rmse\",  rmse)\n",
    "    return {'loss': rmse, 'status': STATUS_OK}\n",
    "        "
   ]
  },
  {
   "cell_type": "code",
   "execution_count": 22,
   "id": "b3f1a280",
   "metadata": {},
   "outputs": [],
   "source": [
    "search_space = {\n",
    "    'max_depth': scope.int(hp.quniform('max_depth', 4, 100, 1)),\n",
    "    'learning_rate': hp.loguniform('learning_rate', -3, 0),\n",
    "    'reg_alpha': hp.loguniform('reg_alpha', -5, -1),\n",
    "    'reg_lambda': hp.loguniform('reg_lambda', -6, -1),\n",
    "    'min_child_weight': hp.loguniform('min_child_weight', -1, 3),\n",
    "    'objective': 'reg:linear',\n",
    "    'seed': 42\n",
    "}"
   ]
  },
  {
   "cell_type": "code",
   "execution_count": 23,
   "id": "3236d87f",
   "metadata": {},
   "outputs": [
    {
     "name": "stdout",
     "output_type": "stream",
     "text": [
      "  0%|          | 0/20 [00:00<?, ?trial/s, best loss=?]"
     ]
    },
    {
     "name": "stderr",
     "output_type": "stream",
     "text": [
      "/home/wsl/mlops-zoomcamp/mlz_env/lib/python3.10/site-packages/xgboost/core.py:160: UserWarning: [19:59:06] WARNING: /workspace/src/objective/regression_obj.cu:209: reg:linear is now deprecated in favor of reg:squarederror.\n",
      "  warnings.warn(smsg, UserWarning)\n",
      "\n"
     ]
    },
    {
     "name": "stdout",
     "output_type": "stream",
     "text": [
      "[0]\tvalidation-rmse:8.35008                           \n",
      "[1]\tvalidation-rmse:7.19506                           \n",
      "[2]\tvalidation-rmse:6.38206                           \n",
      "[3]\tvalidation-rmse:5.82417                           \n",
      "[4]\tvalidation-rmse:5.45386                           \n",
      "[5]\tvalidation-rmse:5.21151                           \n",
      "[6]\tvalidation-rmse:5.05542                           \n",
      "[7]\tvalidation-rmse:4.95641                           \n",
      "[8]\tvalidation-rmse:4.89316                           \n",
      "[9]\tvalidation-rmse:4.85261                           \n",
      "[10]\tvalidation-rmse:4.82541                          \n",
      "[11]\tvalidation-rmse:4.80712                          \n",
      "[12]\tvalidation-rmse:4.79513                          \n",
      "[13]\tvalidation-rmse:4.78549                          \n",
      "[14]\tvalidation-rmse:4.77948                          \n",
      "[15]\tvalidation-rmse:4.77472                          \n",
      "[16]\tvalidation-rmse:4.77089                          \n",
      "[17]\tvalidation-rmse:4.76650                          \n",
      "[18]\tvalidation-rmse:4.76258                          \n",
      "[19]\tvalidation-rmse:4.75940                          \n",
      "  5%|▌         | 1/20 [00:41<13:13, 41.75s/trial, best loss: 4.759403451372992]"
     ]
    },
    {
     "name": "stderr",
     "output_type": "stream",
     "text": [
      "/home/wsl/mlops-zoomcamp/mlz_env/lib/python3.10/site-packages/sklearn/metrics/_regression.py:483: FutureWarning: 'squared' is deprecated in version 1.4 and will be removed in 1.6. To calculate the root mean squared error, use the function'root_mean_squared_error'.\n",
      "  warnings.warn(\n",
      "\n",
      "/home/wsl/mlops-zoomcamp/mlz_env/lib/python3.10/site-packages/xgboost/core.py:160: UserWarning: [19:59:47] WARNING: /workspace/src/objective/regression_obj.cu:209: reg:linear is now deprecated in favor of reg:squarederror.\n",
      "  warnings.warn(smsg, UserWarning)\n",
      "\n"
     ]
    },
    {
     "name": "stdout",
     "output_type": "stream",
     "text": [
      "[0]\tvalidation-rmse:9.22609                                                    \n",
      "[1]\tvalidation-rmse:8.59615                                                    \n",
      "[2]\tvalidation-rmse:8.04450                                                    \n",
      "[3]\tvalidation-rmse:7.56350                                                    \n",
      "[4]\tvalidation-rmse:7.14701                                                    \n",
      "[5]\tvalidation-rmse:6.78727                                                    \n",
      "[6]\tvalidation-rmse:6.47927                                                    \n",
      "[7]\tvalidation-rmse:6.21564                                                    \n",
      "[8]\tvalidation-rmse:5.99197                                                    \n",
      "[9]\tvalidation-rmse:5.80275                                                    \n",
      "[10]\tvalidation-rmse:5.64348                                                   \n",
      "[11]\tvalidation-rmse:5.50990                                                   \n",
      "[12]\tvalidation-rmse:5.39845                                                   \n",
      "[13]\tvalidation-rmse:5.30536                                                   \n",
      "[14]\tvalidation-rmse:5.22799                                                   \n",
      "[15]\tvalidation-rmse:5.16353                                                   \n",
      "[16]\tvalidation-rmse:5.11007                                                   \n",
      "[17]\tvalidation-rmse:5.06606                                                   \n",
      "[18]\tvalidation-rmse:5.02944                                                   \n",
      "[19]\tvalidation-rmse:4.99886                                                   \n",
      " 10%|█         | 2/20 [01:11<10:23, 34.66s/trial, best loss: 4.759403451372992]"
     ]
    },
    {
     "name": "stderr",
     "output_type": "stream",
     "text": [
      "/home/wsl/mlops-zoomcamp/mlz_env/lib/python3.10/site-packages/sklearn/metrics/_regression.py:483: FutureWarning: 'squared' is deprecated in version 1.4 and will be removed in 1.6. To calculate the root mean squared error, use the function'root_mean_squared_error'.\n",
      "  warnings.warn(\n",
      "\n",
      "/home/wsl/mlops-zoomcamp/mlz_env/lib/python3.10/site-packages/xgboost/core.py:160: UserWarning: [20:00:17] WARNING: /workspace/src/objective/regression_obj.cu:209: reg:linear is now deprecated in favor of reg:squarederror.\n",
      "  warnings.warn(smsg, UserWarning)\n",
      "\n"
     ]
    },
    {
     "name": "stdout",
     "output_type": "stream",
     "text": [
      "[0]\tvalidation-rmse:9.40061                                                    \n",
      "[1]\tvalidation-rmse:8.90563                                                    \n",
      "[2]\tvalidation-rmse:8.45498                                                    \n",
      "[3]\tvalidation-rmse:8.04544                                                    \n",
      "[4]\tvalidation-rmse:7.67412                                                    \n",
      "[5]\tvalidation-rmse:7.33826                                                    \n",
      "[6]\tvalidation-rmse:7.03556                                                    \n",
      "[7]\tvalidation-rmse:6.76301                                                    \n",
      "[8]\tvalidation-rmse:6.51892                                                    \n",
      "[9]\tvalidation-rmse:6.29972                                                    \n",
      "[10]\tvalidation-rmse:6.10451                                                   \n",
      "[11]\tvalidation-rmse:5.93075                                                   \n",
      "[12]\tvalidation-rmse:5.77655                                                   \n",
      "[13]\tvalidation-rmse:5.63987                                                   \n",
      "[14]\tvalidation-rmse:5.51952                                                   \n",
      "[15]\tvalidation-rmse:5.41299                                                   \n",
      "[16]\tvalidation-rmse:5.31953                                                   \n",
      "[17]\tvalidation-rmse:5.23722                                                   \n",
      "[18]\tvalidation-rmse:5.16498                                                   \n",
      "[19]\tvalidation-rmse:5.10228                                                   \n",
      " 15%|█▌        | 3/20 [02:43<17:12, 60.74s/trial, best loss: 4.759403451372992]"
     ]
    },
    {
     "name": "stderr",
     "output_type": "stream",
     "text": [
      "/home/wsl/mlops-zoomcamp/mlz_env/lib/python3.10/site-packages/sklearn/metrics/_regression.py:483: FutureWarning: 'squared' is deprecated in version 1.4 and will be removed in 1.6. To calculate the root mean squared error, use the function'root_mean_squared_error'.\n",
      "  warnings.warn(\n",
      "\n",
      "/home/wsl/mlops-zoomcamp/mlz_env/lib/python3.10/site-packages/xgboost/core.py:160: UserWarning: [20:01:49] WARNING: /workspace/src/objective/regression_obj.cu:209: reg:linear is now deprecated in favor of reg:squarederror.\n",
      "  warnings.warn(smsg, UserWarning)\n",
      "\n"
     ]
    },
    {
     "name": "stdout",
     "output_type": "stream",
     "text": [
      "[0]\tvalidation-rmse:8.05498                                                    \n",
      "[1]\tvalidation-rmse:6.79515                                                    \n",
      "[2]\tvalidation-rmse:5.99085                                                    \n",
      "[3]\tvalidation-rmse:5.49700                                                    \n",
      "[4]\tvalidation-rmse:5.20553                                                    \n",
      "[5]\tvalidation-rmse:5.03592                                                    \n",
      "[6]\tvalidation-rmse:4.93920                                                    \n",
      "[7]\tvalidation-rmse:4.88206                                                    \n",
      "[8]\tvalidation-rmse:4.84860                                                    \n",
      "[9]\tvalidation-rmse:4.82836                                                    \n",
      "[10]\tvalidation-rmse:4.81660                                                   \n",
      "[11]\tvalidation-rmse:4.80826                                                   \n",
      "[12]\tvalidation-rmse:4.80103                                                   \n",
      "[13]\tvalidation-rmse:4.79653                                                   \n",
      "[14]\tvalidation-rmse:4.79235                                                   \n",
      "[15]\tvalidation-rmse:4.78795                                                   \n",
      "[16]\tvalidation-rmse:4.78457                                                   \n",
      "[17]\tvalidation-rmse:4.78194                                                   \n",
      "[18]\tvalidation-rmse:4.77936                                                   \n",
      "[19]\tvalidation-rmse:4.77788                                                   \n",
      " 20%|██        | 4/20 [03:17<13:23, 50.24s/trial, best loss: 4.759403451372992]"
     ]
    },
    {
     "name": "stderr",
     "output_type": "stream",
     "text": [
      "/home/wsl/mlops-zoomcamp/mlz_env/lib/python3.10/site-packages/sklearn/metrics/_regression.py:483: FutureWarning: 'squared' is deprecated in version 1.4 and will be removed in 1.6. To calculate the root mean squared error, use the function'root_mean_squared_error'.\n",
      "  warnings.warn(\n",
      "\n",
      "/home/wsl/mlops-zoomcamp/mlz_env/lib/python3.10/site-packages/xgboost/core.py:160: UserWarning: [20:02:23] WARNING: /workspace/src/objective/regression_obj.cu:209: reg:linear is now deprecated in favor of reg:squarederror.\n",
      "  warnings.warn(smsg, UserWarning)\n",
      "\n"
     ]
    },
    {
     "name": "stdout",
     "output_type": "stream",
     "text": [
      "[0]\tvalidation-rmse:8.98288                                                    \n",
      "[1]\tvalidation-rmse:8.17477                                                    \n",
      "[2]\tvalidation-rmse:7.49973                                                    \n",
      "[3]\tvalidation-rmse:6.93990                                                    \n",
      "[4]\tvalidation-rmse:6.48093                                                    \n",
      "[5]\tvalidation-rmse:6.10754                                                    \n",
      "[6]\tvalidation-rmse:5.80616                                                    \n",
      "[7]\tvalidation-rmse:5.56582                                                    \n",
      "[8]\tvalidation-rmse:5.37487                                                    \n",
      "[9]\tvalidation-rmse:5.22484                                                    \n",
      "[10]\tvalidation-rmse:5.10743                                                   \n",
      "[11]\tvalidation-rmse:5.01543                                                   \n",
      "[12]\tvalidation-rmse:4.94422                                                   \n",
      "[13]\tvalidation-rmse:4.88804                                                   \n",
      "[14]\tvalidation-rmse:4.84530                                                   \n",
      "[15]\tvalidation-rmse:4.81217                                                   \n",
      "[16]\tvalidation-rmse:4.78582                                                   \n",
      "[17]\tvalidation-rmse:4.76531                                                   \n",
      "[18]\tvalidation-rmse:4.74924                                                   \n",
      "[19]\tvalidation-rmse:4.73620                                                   \n",
      " 25%|██▌       | 5/20 [04:27<14:21, 57.43s/trial, best loss: 4.736198305788051]"
     ]
    },
    {
     "name": "stderr",
     "output_type": "stream",
     "text": [
      "/home/wsl/mlops-zoomcamp/mlz_env/lib/python3.10/site-packages/sklearn/metrics/_regression.py:483: FutureWarning: 'squared' is deprecated in version 1.4 and will be removed in 1.6. To calculate the root mean squared error, use the function'root_mean_squared_error'.\n",
      "  warnings.warn(\n",
      "\n",
      "/home/wsl/mlops-zoomcamp/mlz_env/lib/python3.10/site-packages/xgboost/core.py:160: UserWarning: [20:03:33] WARNING: /workspace/src/objective/regression_obj.cu:209: reg:linear is now deprecated in favor of reg:squarederror.\n",
      "  warnings.warn(smsg, UserWarning)\n",
      "\n"
     ]
    },
    {
     "name": "stdout",
     "output_type": "stream",
     "text": [
      "[0]\tvalidation-rmse:8.38618                                                    \n",
      "[1]\tvalidation-rmse:7.24095                                                    \n",
      "[2]\tvalidation-rmse:6.42131                                                    \n",
      "[3]\tvalidation-rmse:5.84991                                                    \n",
      "[4]\tvalidation-rmse:5.46152                                                    \n",
      "[5]\tvalidation-rmse:5.20328                                                    \n",
      "[6]\tvalidation-rmse:5.03341                                                    \n",
      "[7]\tvalidation-rmse:4.92447                                                    \n",
      "[8]\tvalidation-rmse:4.85371                                                    \n",
      "[9]\tvalidation-rmse:4.80732                                                    \n",
      "[10]\tvalidation-rmse:4.77668                                                   \n",
      "[11]\tvalidation-rmse:4.75568                                                   \n",
      "[12]\tvalidation-rmse:4.74100                                                   \n",
      "[13]\tvalidation-rmse:4.73081                                                   \n",
      "[14]\tvalidation-rmse:4.72289                                                   \n",
      "[15]\tvalidation-rmse:4.71683                                                   \n",
      "[16]\tvalidation-rmse:4.71184                                                   \n",
      "[17]\tvalidation-rmse:4.70802                                                   \n",
      "[18]\tvalidation-rmse:4.70462                                                   \n",
      "[19]\tvalidation-rmse:4.70107                                                   \n",
      " 30%|███       | 6/20 [05:16<12:43, 54.57s/trial, best loss: 4.70107283357096] "
     ]
    },
    {
     "name": "stderr",
     "output_type": "stream",
     "text": [
      "/home/wsl/mlops-zoomcamp/mlz_env/lib/python3.10/site-packages/sklearn/metrics/_regression.py:483: FutureWarning: 'squared' is deprecated in version 1.4 and will be removed in 1.6. To calculate the root mean squared error, use the function'root_mean_squared_error'.\n",
      "  warnings.warn(\n",
      "\n",
      "/home/wsl/mlops-zoomcamp/mlz_env/lib/python3.10/site-packages/xgboost/core.py:160: UserWarning: [20:04:22] WARNING: /workspace/src/objective/regression_obj.cu:209: reg:linear is now deprecated in favor of reg:squarederror.\n",
      "  warnings.warn(smsg, UserWarning)\n",
      "\n"
     ]
    },
    {
     "name": "stdout",
     "output_type": "stream",
     "text": [
      "[0]\tvalidation-rmse:7.71620                                                   \n",
      "[1]\tvalidation-rmse:6.40656                                                   \n",
      "[2]\tvalidation-rmse:5.68777                                                   \n",
      "[3]\tvalidation-rmse:5.31853                                                   \n",
      "[4]\tvalidation-rmse:5.13370                                                   \n",
      "[5]\tvalidation-rmse:5.04269                                                   \n",
      "[6]\tvalidation-rmse:4.99863                                                   \n",
      "[7]\tvalidation-rmse:4.97718                                                   \n",
      "[8]\tvalidation-rmse:4.96550                                                   \n",
      "[9]\tvalidation-rmse:4.95740                                                   \n",
      "[10]\tvalidation-rmse:4.95114                                                  \n",
      "[11]\tvalidation-rmse:4.94763                                                  \n",
      "[12]\tvalidation-rmse:4.94243                                                  \n",
      "[13]\tvalidation-rmse:4.93899                                                  \n",
      "[14]\tvalidation-rmse:4.93686                                                  \n",
      "[15]\tvalidation-rmse:4.93476                                                  \n",
      "[16]\tvalidation-rmse:4.93287                                                  \n",
      "[17]\tvalidation-rmse:4.93084                                                  \n",
      "[18]\tvalidation-rmse:4.92907                                                  \n",
      "[19]\tvalidation-rmse:4.92703                                                  \n",
      " 35%|███▌      | 7/20 [05:36<09:20, 43.15s/trial, best loss: 4.70107283357096]"
     ]
    },
    {
     "name": "stderr",
     "output_type": "stream",
     "text": [
      "/home/wsl/mlops-zoomcamp/mlz_env/lib/python3.10/site-packages/sklearn/metrics/_regression.py:483: FutureWarning: 'squared' is deprecated in version 1.4 and will be removed in 1.6. To calculate the root mean squared error, use the function'root_mean_squared_error'.\n",
      "  warnings.warn(\n",
      "\n",
      "/home/wsl/mlops-zoomcamp/mlz_env/lib/python3.10/site-packages/xgboost/core.py:160: UserWarning: [20:04:42] WARNING: /workspace/src/objective/regression_obj.cu:209: reg:linear is now deprecated in favor of reg:squarederror.\n",
      "  warnings.warn(smsg, UserWarning)\n",
      "\n"
     ]
    },
    {
     "name": "stdout",
     "output_type": "stream",
     "text": [
      "[0]\tvalidation-rmse:7.73921                                                   \n",
      "[1]\tvalidation-rmse:6.37867                                                   \n",
      "[2]\tvalidation-rmse:5.58755                                                   \n",
      "[3]\tvalidation-rmse:5.15249                                                   \n",
      "[4]\tvalidation-rmse:4.92274                                                   \n",
      "[5]\tvalidation-rmse:4.80436                                                   \n",
      "[6]\tvalidation-rmse:4.74327                                                   \n",
      "[7]\tvalidation-rmse:4.71053                                                   \n",
      "[8]\tvalidation-rmse:4.69155                                                   \n",
      "[9]\tvalidation-rmse:4.68001                                                   \n",
      "[10]\tvalidation-rmse:4.67260                                                  \n",
      "[11]\tvalidation-rmse:4.66774                                                  \n",
      "[12]\tvalidation-rmse:4.66352                                                  \n",
      "[13]\tvalidation-rmse:4.66019                                                  \n",
      "[14]\tvalidation-rmse:4.65688                                                  \n",
      "[15]\tvalidation-rmse:4.65468                                                  \n",
      "[16]\tvalidation-rmse:4.65233                                                  \n",
      "[17]\tvalidation-rmse:4.65031                                                  \n",
      "[18]\tvalidation-rmse:4.64928                                                  \n",
      "[19]\tvalidation-rmse:4.64814                                                  \n",
      " 40%|████      | 8/20 [06:46<10:22, 51.85s/trial, best loss: 4.6481386499237] "
     ]
    },
    {
     "name": "stderr",
     "output_type": "stream",
     "text": [
      "/home/wsl/mlops-zoomcamp/mlz_env/lib/python3.10/site-packages/sklearn/metrics/_regression.py:483: FutureWarning: 'squared' is deprecated in version 1.4 and will be removed in 1.6. To calculate the root mean squared error, use the function'root_mean_squared_error'.\n",
      "  warnings.warn(\n",
      "\n",
      "/home/wsl/mlops-zoomcamp/mlz_env/lib/python3.10/site-packages/xgboost/core.py:160: UserWarning: [20:05:52] WARNING: /workspace/src/objective/regression_obj.cu:209: reg:linear is now deprecated in favor of reg:squarederror.\n",
      "  warnings.warn(smsg, UserWarning)\n",
      "\n"
     ]
    },
    {
     "name": "stdout",
     "output_type": "stream",
     "text": [
      "[0]\tvalidation-rmse:9.21250                                                  \n",
      "[1]\tvalidation-rmse:8.57236                                                  \n",
      "[2]\tvalidation-rmse:8.01367                                                  \n",
      "[3]\tvalidation-rmse:7.52847                                                  \n",
      "[4]\tvalidation-rmse:7.10930                                                  \n",
      "[5]\tvalidation-rmse:6.74952                                                  \n",
      "[6]\tvalidation-rmse:6.44195                                                  \n",
      "[7]\tvalidation-rmse:6.18051                                                  \n",
      "[8]\tvalidation-rmse:5.95925                                                  \n",
      "[9]\tvalidation-rmse:5.77348                                                  \n",
      "[10]\tvalidation-rmse:5.61747                                                 \n",
      "[11]\tvalidation-rmse:5.48699                                                 \n",
      "[12]\tvalidation-rmse:5.37899                                                 \n",
      "[13]\tvalidation-rmse:5.28931                                                 \n",
      "[14]\tvalidation-rmse:5.21526                                                 \n",
      "[15]\tvalidation-rmse:5.15381                                                 \n",
      "[16]\tvalidation-rmse:5.10335                                                 \n",
      "[17]\tvalidation-rmse:5.06127                                                 \n",
      "[18]\tvalidation-rmse:5.02695                                                 \n",
      "[19]\tvalidation-rmse:4.99848                                                 \n",
      " 45%|████▌     | 9/20 [07:15<08:12, 44.80s/trial, best loss: 4.6481386499237]"
     ]
    },
    {
     "name": "stderr",
     "output_type": "stream",
     "text": [
      "/home/wsl/mlops-zoomcamp/mlz_env/lib/python3.10/site-packages/sklearn/metrics/_regression.py:483: FutureWarning: 'squared' is deprecated in version 1.4 and will be removed in 1.6. To calculate the root mean squared error, use the function'root_mean_squared_error'.\n",
      "  warnings.warn(\n",
      "\n",
      "/home/wsl/mlops-zoomcamp/mlz_env/lib/python3.10/site-packages/xgboost/core.py:160: UserWarning: [20:06:22] WARNING: /workspace/src/objective/regression_obj.cu:209: reg:linear is now deprecated in favor of reg:squarederror.\n",
      "  warnings.warn(smsg, UserWarning)\n",
      "\n"
     ]
    },
    {
     "name": "stdout",
     "output_type": "stream",
     "text": [
      "[0]\tvalidation-rmse:6.06344                                                  \n",
      "[1]\tvalidation-rmse:5.01960                                                  \n",
      "[2]\tvalidation-rmse:4.79520                                                  \n",
      "[3]\tvalidation-rmse:4.74219                                                  \n",
      "[4]\tvalidation-rmse:4.72329                                                  \n",
      "[5]\tvalidation-rmse:4.71203                                                  \n",
      "[6]\tvalidation-rmse:4.70271                                                  \n",
      "[7]\tvalidation-rmse:4.69620                                                  \n",
      "[8]\tvalidation-rmse:4.69283                                                  \n",
      "[9]\tvalidation-rmse:4.68881                                                  \n",
      "[10]\tvalidation-rmse:4.68512                                                 \n",
      "[11]\tvalidation-rmse:4.68202                                                 \n",
      "[12]\tvalidation-rmse:4.67857                                                 \n",
      "[13]\tvalidation-rmse:4.67572                                                 \n",
      "[14]\tvalidation-rmse:4.67265                                                 \n",
      "[15]\tvalidation-rmse:4.67003                                                 \n",
      "[16]\tvalidation-rmse:4.66662                                                 \n",
      "[17]\tvalidation-rmse:4.66393                                                 \n",
      "[18]\tvalidation-rmse:4.66165                                                 \n",
      "[19]\tvalidation-rmse:4.65945                                                 \n",
      " 50%|█████     | 10/20 [07:50<06:54, 41.49s/trial, best loss: 4.6481386499237]"
     ]
    },
    {
     "name": "stderr",
     "output_type": "stream",
     "text": [
      "/home/wsl/mlops-zoomcamp/mlz_env/lib/python3.10/site-packages/sklearn/metrics/_regression.py:483: FutureWarning: 'squared' is deprecated in version 1.4 and will be removed in 1.6. To calculate the root mean squared error, use the function'root_mean_squared_error'.\n",
      "  warnings.warn(\n",
      "\n",
      "/home/wsl/mlops-zoomcamp/mlz_env/lib/python3.10/site-packages/xgboost/core.py:160: UserWarning: [20:06:56] WARNING: /workspace/src/objective/regression_obj.cu:209: reg:linear is now deprecated in favor of reg:squarederror.\n",
      "  warnings.warn(smsg, UserWarning)\n",
      "\n"
     ]
    },
    {
     "name": "stdout",
     "output_type": "stream",
     "text": [
      "[0]\tvalidation-rmse:9.13483                                                   \n",
      "[1]\tvalidation-rmse:8.43817                                                   \n",
      "[2]\tvalidation-rmse:7.84137                                                   \n",
      "[3]\tvalidation-rmse:7.33364                                                   \n",
      "[4]\tvalidation-rmse:6.90352                                                   \n",
      "[5]\tvalidation-rmse:6.54262                                                   \n",
      "[6]\tvalidation-rmse:6.24128                                                   \n",
      "[7]\tvalidation-rmse:5.99137                                                   \n",
      "[8]\tvalidation-rmse:5.78540                                                   \n",
      "[9]\tvalidation-rmse:5.61719                                                   \n",
      "[10]\tvalidation-rmse:5.47983                                                  \n",
      "[11]\tvalidation-rmse:5.36740                                                  \n",
      "[12]\tvalidation-rmse:5.27677                                                  \n",
      "[13]\tvalidation-rmse:5.20395                                                  \n",
      "[14]\tvalidation-rmse:5.14538                                                  \n",
      "[15]\tvalidation-rmse:5.09777                                                  \n",
      "[16]\tvalidation-rmse:5.05961                                                  \n",
      "[17]\tvalidation-rmse:5.02911                                                  \n",
      "[18]\tvalidation-rmse:5.00424                                                  \n",
      "[19]\tvalidation-rmse:4.98389                                                  \n",
      " 50%|█████     | 10/20 [08:12<06:54, 41.49s/trial, best loss: 4.6481386499237]"
     ]
    },
    {
     "name": "stderr",
     "output_type": "stream",
     "text": [
      "/home/wsl/mlops-zoomcamp/mlz_env/lib/python3.10/site-packages/sklearn/metrics/_regression.py:483: FutureWarning: 'squared' is deprecated in version 1.4 and will be removed in 1.6. To calculate the root mean squared error, use the function'root_mean_squared_error'.\n",
      "  warnings.warn(\n",
      "\n"
     ]
    },
    {
     "name": "stdout",
     "output_type": "stream",
     "text": [
      " 55%|█████▌    | 11/20 [08:14<05:25, 36.15s/trial, best loss: 4.6481386499237]"
     ]
    },
    {
     "name": "stderr",
     "output_type": "stream",
     "text": [
      "/home/wsl/mlops-zoomcamp/mlz_env/lib/python3.10/site-packages/xgboost/core.py:160: UserWarning: [20:07:20] WARNING: /workspace/src/objective/regression_obj.cu:209: reg:linear is now deprecated in favor of reg:squarederror.\n",
      "  warnings.warn(smsg, UserWarning)\n",
      "\n"
     ]
    },
    {
     "name": "stdout",
     "output_type": "stream",
     "text": [
      "[0]\tvalidation-rmse:9.53161                                                   \n",
      "[1]\tvalidation-rmse:9.14980                                                   \n",
      "[2]\tvalidation-rmse:8.79567                                                   \n",
      "[3]\tvalidation-rmse:8.46761                                                   \n",
      "[4]\tvalidation-rmse:8.16435                                                   \n",
      "[5]\tvalidation-rmse:7.88421                                                   \n",
      "[6]\tvalidation-rmse:7.62624                                                   \n",
      "[7]\tvalidation-rmse:7.38865                                                   \n",
      "[8]\tvalidation-rmse:7.17066                                                   \n",
      "[9]\tvalidation-rmse:6.97071                                                   \n",
      "[10]\tvalidation-rmse:6.78765                                                  \n",
      "[11]\tvalidation-rmse:6.62048                                                  \n",
      "[12]\tvalidation-rmse:6.46784                                                  \n",
      "[13]\tvalidation-rmse:6.32898                                                  \n",
      "[14]\tvalidation-rmse:6.20281                                                  \n",
      "[15]\tvalidation-rmse:6.08810                                                  \n",
      "[16]\tvalidation-rmse:5.98423                                                  \n",
      "[17]\tvalidation-rmse:5.89009                                                  \n",
      "[18]\tvalidation-rmse:5.80529                                                  \n",
      "[19]\tvalidation-rmse:5.72898                                                  \n",
      " 60%|██████    | 12/20 [08:31<04:02, 30.35s/trial, best loss: 4.6481386499237]"
     ]
    },
    {
     "name": "stderr",
     "output_type": "stream",
     "text": [
      "/home/wsl/mlops-zoomcamp/mlz_env/lib/python3.10/site-packages/sklearn/metrics/_regression.py:483: FutureWarning: 'squared' is deprecated in version 1.4 and will be removed in 1.6. To calculate the root mean squared error, use the function'root_mean_squared_error'.\n",
      "  warnings.warn(\n",
      "\n",
      "/home/wsl/mlops-zoomcamp/mlz_env/lib/python3.10/site-packages/xgboost/core.py:160: UserWarning: [20:07:37] WARNING: /workspace/src/objective/regression_obj.cu:209: reg:linear is now deprecated in favor of reg:squarederror.\n",
      "  warnings.warn(smsg, UserWarning)\n",
      "\n"
     ]
    },
    {
     "name": "stdout",
     "output_type": "stream",
     "text": [
      "[0]\tvalidation-rmse:9.40943                                                   \n",
      "[1]\tvalidation-rmse:8.92236                                                   \n",
      "[2]\tvalidation-rmse:8.47870                                                   \n",
      "[3]\tvalidation-rmse:8.07527                                                   \n",
      "[4]\tvalidation-rmse:7.70943                                                   \n",
      "[5]\tvalidation-rmse:7.37857                                                   \n",
      "[6]\tvalidation-rmse:7.07970                                                   \n",
      "[7]\tvalidation-rmse:6.81097                                                   \n",
      "[8]\tvalidation-rmse:6.56973                                                   \n",
      "[9]\tvalidation-rmse:6.35381                                                   \n",
      "[10]\tvalidation-rmse:6.16113                                                  \n",
      "[11]\tvalidation-rmse:5.98943                                                  \n",
      "[12]\tvalidation-rmse:5.83718                                                  \n",
      "[13]\tvalidation-rmse:5.70185                                                  \n",
      "[14]\tvalidation-rmse:5.58223                                                  \n",
      "[15]\tvalidation-rmse:5.47649                                                  \n",
      "[16]\tvalidation-rmse:5.38337                                                  \n",
      "[17]\tvalidation-rmse:5.30166                                                  \n",
      "[18]\tvalidation-rmse:5.22973                                                  \n",
      "[19]\tvalidation-rmse:5.16705                                                  \n",
      " 65%|██████▌   | 13/20 [09:32<04:38, 39.81s/trial, best loss: 4.6481386499237]"
     ]
    },
    {
     "name": "stderr",
     "output_type": "stream",
     "text": [
      "/home/wsl/mlops-zoomcamp/mlz_env/lib/python3.10/site-packages/sklearn/metrics/_regression.py:483: FutureWarning: 'squared' is deprecated in version 1.4 and will be removed in 1.6. To calculate the root mean squared error, use the function'root_mean_squared_error'.\n",
      "  warnings.warn(\n",
      "\n",
      "/home/wsl/mlops-zoomcamp/mlz_env/lib/python3.10/site-packages/xgboost/core.py:160: UserWarning: [20:08:39] WARNING: /workspace/src/objective/regression_obj.cu:209: reg:linear is now deprecated in favor of reg:squarederror.\n",
      "  warnings.warn(smsg, UserWarning)\n",
      "\n"
     ]
    },
    {
     "name": "stdout",
     "output_type": "stream",
     "text": [
      "[0]\tvalidation-rmse:7.32650                                                   \n",
      "[1]\tvalidation-rmse:5.94720                                                   \n",
      "[2]\tvalidation-rmse:5.28882                                                   \n",
      "[3]\tvalidation-rmse:4.99346                                                   \n",
      "[4]\tvalidation-rmse:4.86624                                                   \n",
      "[5]\tvalidation-rmse:4.80953                                                   \n",
      "[6]\tvalidation-rmse:4.78471                                                   \n",
      "[7]\tvalidation-rmse:4.77009                                                   \n",
      "[8]\tvalidation-rmse:4.76152                                                   \n",
      "[9]\tvalidation-rmse:4.75397                                                   \n",
      "[10]\tvalidation-rmse:4.74947                                                  \n",
      "[11]\tvalidation-rmse:4.74435                                                  \n",
      "[12]\tvalidation-rmse:4.74099                                                  \n",
      "[13]\tvalidation-rmse:4.73862                                                  \n",
      "[14]\tvalidation-rmse:4.73655                                                  \n",
      "[15]\tvalidation-rmse:4.73399                                                  \n",
      "[16]\tvalidation-rmse:4.73205                                                  \n",
      "[17]\tvalidation-rmse:4.73004                                                  \n",
      "[18]\tvalidation-rmse:4.72816                                                  \n",
      "[19]\tvalidation-rmse:4.72633                                                  \n",
      " 70%|███████   | 14/20 [10:12<03:59, 39.86s/trial, best loss: 4.6481386499237]"
     ]
    },
    {
     "name": "stderr",
     "output_type": "stream",
     "text": [
      "/home/wsl/mlops-zoomcamp/mlz_env/lib/python3.10/site-packages/sklearn/metrics/_regression.py:483: FutureWarning: 'squared' is deprecated in version 1.4 and will be removed in 1.6. To calculate the root mean squared error, use the function'root_mean_squared_error'.\n",
      "  warnings.warn(\n",
      "\n",
      "/home/wsl/mlops-zoomcamp/mlz_env/lib/python3.10/site-packages/xgboost/core.py:160: UserWarning: [20:09:18] WARNING: /workspace/src/objective/regression_obj.cu:209: reg:linear is now deprecated in favor of reg:squarederror.\n",
      "  warnings.warn(smsg, UserWarning)\n",
      "\n"
     ]
    },
    {
     "name": "stdout",
     "output_type": "stream",
     "text": [
      "[0]\tvalidation-rmse:5.14104                                                   \n",
      "[1]\tvalidation-rmse:4.92353                                                   \n",
      "[2]\tvalidation-rmse:4.90389                                                   \n",
      "[3]\tvalidation-rmse:4.89680                                                   \n",
      "[4]\tvalidation-rmse:4.88993                                                   \n",
      "[5]\tvalidation-rmse:4.88357                                                   \n",
      "[6]\tvalidation-rmse:4.87477                                                   \n",
      "[7]\tvalidation-rmse:4.86871                                                   \n",
      "[8]\tvalidation-rmse:4.86285                                                   \n",
      "[9]\tvalidation-rmse:4.85728                                                   \n",
      "[10]\tvalidation-rmse:4.85231                                                  \n",
      "[11]\tvalidation-rmse:4.84758                                                  \n",
      "[12]\tvalidation-rmse:4.84283                                                  \n",
      "[13]\tvalidation-rmse:4.83768                                                  \n",
      "[14]\tvalidation-rmse:4.83255                                                  \n",
      "[15]\tvalidation-rmse:4.82844                                                  \n",
      "[16]\tvalidation-rmse:4.82349                                                  \n",
      "[17]\tvalidation-rmse:4.81936                                                  \n",
      "[18]\tvalidation-rmse:4.81597                                                  \n",
      "[19]\tvalidation-rmse:4.81219                                                  \n",
      " 75%|███████▌  | 15/20 [10:35<02:53, 34.61s/trial, best loss: 4.6481386499237]"
     ]
    },
    {
     "name": "stderr",
     "output_type": "stream",
     "text": [
      "/home/wsl/mlops-zoomcamp/mlz_env/lib/python3.10/site-packages/sklearn/metrics/_regression.py:483: FutureWarning: 'squared' is deprecated in version 1.4 and will be removed in 1.6. To calculate the root mean squared error, use the function'root_mean_squared_error'.\n",
      "  warnings.warn(\n",
      "\n",
      "/home/wsl/mlops-zoomcamp/mlz_env/lib/python3.10/site-packages/xgboost/core.py:160: UserWarning: [20:09:41] WARNING: /workspace/src/objective/regression_obj.cu:209: reg:linear is now deprecated in favor of reg:squarederror.\n",
      "  warnings.warn(smsg, UserWarning)\n",
      "\n"
     ]
    },
    {
     "name": "stdout",
     "output_type": "stream",
     "text": [
      "[0]\tvalidation-rmse:6.10353                                                   \n",
      "[1]\tvalidation-rmse:5.07523                                                   \n",
      "[2]\tvalidation-rmse:4.85005                                                   \n",
      "[3]\tvalidation-rmse:4.79650                                                   \n",
      "[4]\tvalidation-rmse:4.77710                                                   \n",
      "[5]\tvalidation-rmse:4.76698                                                   \n",
      "[6]\tvalidation-rmse:4.75991                                                   \n",
      "[7]\tvalidation-rmse:4.75579                                                   \n",
      "[8]\tvalidation-rmse:4.75206                                                   \n",
      "[9]\tvalidation-rmse:4.74781                                                   \n",
      "[10]\tvalidation-rmse:4.74413                                                  \n",
      "[11]\tvalidation-rmse:4.74067                                                  \n",
      "[12]\tvalidation-rmse:4.73654                                                  \n",
      "[13]\tvalidation-rmse:4.73308                                                  \n",
      "[14]\tvalidation-rmse:4.72974                                                  \n",
      "[15]\tvalidation-rmse:4.72653                                                  \n",
      "[16]\tvalidation-rmse:4.72347                                                  \n",
      "[17]\tvalidation-rmse:4.72019                                                  \n",
      "[18]\tvalidation-rmse:4.71702                                                  \n",
      "[19]\tvalidation-rmse:4.71365                                                  \n",
      " 80%|████████  | 16/20 [11:04<02:12, 33.03s/trial, best loss: 4.6481386499237]"
     ]
    },
    {
     "name": "stderr",
     "output_type": "stream",
     "text": [
      "/home/wsl/mlops-zoomcamp/mlz_env/lib/python3.10/site-packages/sklearn/metrics/_regression.py:483: FutureWarning: 'squared' is deprecated in version 1.4 and will be removed in 1.6. To calculate the root mean squared error, use the function'root_mean_squared_error'.\n",
      "  warnings.warn(\n",
      "\n",
      "/home/wsl/mlops-zoomcamp/mlz_env/lib/python3.10/site-packages/xgboost/core.py:160: UserWarning: [20:10:10] WARNING: /workspace/src/objective/regression_obj.cu:209: reg:linear is now deprecated in favor of reg:squarederror.\n",
      "  warnings.warn(smsg, UserWarning)\n",
      "\n"
     ]
    },
    {
     "name": "stdout",
     "output_type": "stream",
     "text": [
      "[0]\tvalidation-rmse:7.12060                                                   \n",
      "[1]\tvalidation-rmse:5.81124                                                   \n",
      "[2]\tvalidation-rmse:5.27548                                                   \n",
      "[3]\tvalidation-rmse:5.07263                                                   \n",
      "[4]\tvalidation-rmse:4.99622                                                   \n",
      "[5]\tvalidation-rmse:4.96681                                                   \n",
      "[6]\tvalidation-rmse:4.95283                                                   \n",
      "[7]\tvalidation-rmse:4.94379                                                   \n",
      "[8]\tvalidation-rmse:4.93649                                                   \n",
      "[9]\tvalidation-rmse:4.93215                                                   \n",
      "[10]\tvalidation-rmse:4.92946                                                  \n",
      "[11]\tvalidation-rmse:4.92658                                                  \n",
      "[12]\tvalidation-rmse:4.92361                                                  \n",
      "[13]\tvalidation-rmse:4.92073                                                  \n",
      "[14]\tvalidation-rmse:4.91805                                                  \n",
      "[15]\tvalidation-rmse:4.91613                                                  \n",
      "[16]\tvalidation-rmse:4.91367                                                  \n",
      "[17]\tvalidation-rmse:4.91105                                                  \n",
      "[18]\tvalidation-rmse:4.90869                                                  \n",
      "[19]\tvalidation-rmse:4.90586                                                  \n",
      " 85%|████████▌ | 17/20 [11:25<01:27, 29.28s/trial, best loss: 4.6481386499237]"
     ]
    },
    {
     "name": "stderr",
     "output_type": "stream",
     "text": [
      "/home/wsl/mlops-zoomcamp/mlz_env/lib/python3.10/site-packages/sklearn/metrics/_regression.py:483: FutureWarning: 'squared' is deprecated in version 1.4 and will be removed in 1.6. To calculate the root mean squared error, use the function'root_mean_squared_error'.\n",
      "  warnings.warn(\n",
      "\n",
      "/home/wsl/mlops-zoomcamp/mlz_env/lib/python3.10/site-packages/xgboost/core.py:160: UserWarning: [20:10:31] WARNING: /workspace/src/objective/regression_obj.cu:209: reg:linear is now deprecated in favor of reg:squarederror.\n",
      "  warnings.warn(smsg, UserWarning)\n",
      "\n"
     ]
    },
    {
     "name": "stdout",
     "output_type": "stream",
     "text": [
      "[0]\tvalidation-rmse:7.55524                                                   \n",
      "[1]\tvalidation-rmse:6.16631                                                   \n",
      "[2]\tvalidation-rmse:5.41541                                                   \n",
      "[3]\tvalidation-rmse:5.03498                                                   \n",
      "[4]\tvalidation-rmse:4.85078                                                   \n",
      "[5]\tvalidation-rmse:4.76257                                                   \n",
      "[6]\tvalidation-rmse:4.71974                                                   \n",
      "[7]\tvalidation-rmse:4.69574                                                   \n",
      "[8]\tvalidation-rmse:4.68300                                                   \n",
      "[9]\tvalidation-rmse:4.67461                                                   \n",
      "[10]\tvalidation-rmse:4.66792                                                  \n",
      "[11]\tvalidation-rmse:4.66274                                                  \n",
      "[12]\tvalidation-rmse:4.65751                                                  \n",
      "[13]\tvalidation-rmse:4.65348                                                  \n",
      "[14]\tvalidation-rmse:4.65022                                                  \n",
      "[15]\tvalidation-rmse:4.64703                                                  \n",
      "[16]\tvalidation-rmse:4.64523                                                  \n",
      "[17]\tvalidation-rmse:4.64378                                                  \n",
      "[18]\tvalidation-rmse:4.64223                                                  \n",
      "[19]\tvalidation-rmse:4.64094                                                  \n",
      " 90%|█████████ | 18/20 [12:23<01:16, 38.05s/trial, best loss: 4.6409434514765495]"
     ]
    },
    {
     "name": "stderr",
     "output_type": "stream",
     "text": [
      "/home/wsl/mlops-zoomcamp/mlz_env/lib/python3.10/site-packages/sklearn/metrics/_regression.py:483: FutureWarning: 'squared' is deprecated in version 1.4 and will be removed in 1.6. To calculate the root mean squared error, use the function'root_mean_squared_error'.\n",
      "  warnings.warn(\n",
      "\n",
      "/home/wsl/mlops-zoomcamp/mlz_env/lib/python3.10/site-packages/xgboost/core.py:160: UserWarning: [20:11:29] WARNING: /workspace/src/objective/regression_obj.cu:209: reg:linear is now deprecated in favor of reg:squarederror.\n",
      "  warnings.warn(smsg, UserWarning)\n",
      "\n"
     ]
    },
    {
     "name": "stdout",
     "output_type": "stream",
     "text": [
      "[0]\tvalidation-rmse:5.82009                                                      \n",
      "[1]\tvalidation-rmse:4.89979                                                      \n",
      "[2]\tvalidation-rmse:4.73545                                                      \n",
      "[3]\tvalidation-rmse:4.69995                                                      \n",
      "[4]\tvalidation-rmse:4.68788                                                      \n",
      "[5]\tvalidation-rmse:4.67575                                                      \n",
      "[6]\tvalidation-rmse:4.66932                                                      \n",
      "[7]\tvalidation-rmse:4.66520                                                      \n",
      "[8]\tvalidation-rmse:4.66113                                                      \n",
      "[9]\tvalidation-rmse:4.65756                                                      \n",
      "[10]\tvalidation-rmse:4.65437                                                     \n",
      "[11]\tvalidation-rmse:4.65101                                                     \n",
      "[12]\tvalidation-rmse:4.64833                                                     \n",
      "[13]\tvalidation-rmse:4.64564                                                     \n",
      "[14]\tvalidation-rmse:4.64288                                                     \n",
      "[15]\tvalidation-rmse:4.64014                                                     \n",
      "[16]\tvalidation-rmse:4.63771                                                     \n",
      "[17]\tvalidation-rmse:4.63551                                                     \n",
      "[18]\tvalidation-rmse:4.63312                                                     \n",
      "[19]\tvalidation-rmse:4.63083                                                     \n",
      " 95%|█████████▌| 19/20 [13:07<00:39, 39.93s/trial, best loss: 4.630834275006095] "
     ]
    },
    {
     "name": "stderr",
     "output_type": "stream",
     "text": [
      "/home/wsl/mlops-zoomcamp/mlz_env/lib/python3.10/site-packages/sklearn/metrics/_regression.py:483: FutureWarning: 'squared' is deprecated in version 1.4 and will be removed in 1.6. To calculate the root mean squared error, use the function'root_mean_squared_error'.\n",
      "  warnings.warn(\n",
      "\n",
      "/home/wsl/mlops-zoomcamp/mlz_env/lib/python3.10/site-packages/xgboost/core.py:160: UserWarning: [20:12:13] WARNING: /workspace/src/objective/regression_obj.cu:209: reg:linear is now deprecated in favor of reg:squarederror.\n",
      "  warnings.warn(smsg, UserWarning)\n",
      "\n"
     ]
    },
    {
     "name": "stdout",
     "output_type": "stream",
     "text": [
      "[0]\tvalidation-rmse:9.44186                                                     \n",
      "[1]\tvalidation-rmse:8.98249                                                     \n",
      "[2]\tvalidation-rmse:8.56203                                                     \n",
      "[3]\tvalidation-rmse:8.17792                                                     \n",
      "[4]\tvalidation-rmse:7.82803                                                     \n",
      "[5]\tvalidation-rmse:7.50969                                                     \n",
      "[6]\tvalidation-rmse:7.22104                                                     \n",
      "[7]\tvalidation-rmse:6.95949                                                     \n",
      "[8]\tvalidation-rmse:6.72359                                                     \n",
      "[9]\tvalidation-rmse:6.51108                                                     \n",
      "[10]\tvalidation-rmse:6.32000                                                    \n",
      "[11]\tvalidation-rmse:6.14876                                                    \n",
      "[12]\tvalidation-rmse:5.99537                                                    \n",
      "[13]\tvalidation-rmse:5.85878                                                    \n",
      "[14]\tvalidation-rmse:5.73673                                                    \n",
      "[15]\tvalidation-rmse:5.62839                                                    \n",
      "[16]\tvalidation-rmse:5.53239                                                    \n",
      "[17]\tvalidation-rmse:5.44726                                                    \n",
      "[18]\tvalidation-rmse:5.37191                                                    \n",
      "[19]\tvalidation-rmse:5.30525                                                    \n",
      "100%|██████████| 20/20 [13:45<00:00, 41.27s/trial, best loss: 4.630834275006095]\n"
     ]
    },
    {
     "name": "stderr",
     "output_type": "stream",
     "text": [
      "/home/wsl/mlops-zoomcamp/mlz_env/lib/python3.10/site-packages/sklearn/metrics/_regression.py:483: FutureWarning: 'squared' is deprecated in version 1.4 and will be removed in 1.6. To calculate the root mean squared error, use the function'root_mean_squared_error'.\n",
      "  warnings.warn(\n",
      "\n"
     ]
    }
   ],
   "source": [
    "best_result = fmin(\n",
    "    fn= objective,\n",
    "    space= search_space,\n",
    "    algo= tpe.suggest,\n",
    "    max_evals= 20,\n",
    "    trials= Trials())"
   ]
  },
  {
   "cell_type": "code",
   "execution_count": 24,
   "id": "da886e40",
   "metadata": {},
   "outputs": [],
   "source": [
    "final_params = {\n",
    "    \"learning_rate\": 0.5618634451487657,\n",
    "    \"max_depth\": 68,\n",
    "    \"min_child_weight\": 17.37107590023969,\n",
    "    \"objective\": \"reg:linear\",\n",
    "    \"reg_alpha\": 0.3371317167913217,\n",
    "    \"reg_lambda\": 0.14526987828259832,\n",
    "    \"seed\": 42\n",
    "}\n"
   ]
  },
  {
   "cell_type": "code",
   "execution_count": 25,
   "id": "77f0e95b",
   "metadata": {},
   "outputs": [
    {
     "name": "stderr",
     "output_type": "stream",
     "text": [
      "2024/05/21 20:21:57 INFO mlflow.utils.autologging_utils: Created MLflow autologging run with ID '1548b8f1bf0944aa95cb9971ef7d3844', which will track hyperparameters, performance metrics, model artifacts, and lineage information for the current xgboost workflow\n",
      "2024/05/21 20:21:57 WARNING mlflow.xgboost: Failed to log dataset information to MLflow Tracking. Reason: Unable to allocate 233. GiB for an array with shape (2855951, 21910) and data type float32\n",
      "/home/wsl/mlops-zoomcamp/mlz_env/lib/python3.10/site-packages/xgboost/core.py:160: UserWarning: [20:21:57] WARNING: /workspace/src/objective/regression_obj.cu:209: reg:linear is now deprecated in favor of reg:squarederror.\n",
      "  warnings.warn(smsg, UserWarning)\n"
     ]
    },
    {
     "name": "stdout",
     "output_type": "stream",
     "text": [
      "[0]\tvalidation-rmse:6.06344\n",
      "[1]\tvalidation-rmse:5.01960\n",
      "[2]\tvalidation-rmse:4.79520\n",
      "[3]\tvalidation-rmse:4.74219\n",
      "[4]\tvalidation-rmse:4.72329\n"
     ]
    },
    {
     "name": "stderr",
     "output_type": "stream",
     "text": [
      "2024/05/21 20:22:19 WARNING mlflow.xgboost: Failed to infer model signature: could not sample data to infer model signature: please ensure that autologging is enabled before constructing the dataset.\n",
      "2024/05/21 20:22:19 WARNING mlflow.utils.autologging_utils: MLflow autologging encountered a warning: \"/home/wsl/mlops-zoomcamp/mlz_env/lib/python3.10/site-packages/xgboost/core.py:160: UserWarning: [20:22:19] WARNING: /workspace/src/c_api/c_api.cc:1240: Saving into deprecated binary model format, please consider using `json` or `ubj`. Model format will default to JSON in XGBoost 2.2 if not specified.\"\n"
     ]
    }
   ],
   "source": [
    "mlflow.xgboost.autolog()\n",
    "model = xgb.train(\n",
    "    params = final_params,\n",
    "    dtrain= train,\n",
    "    num_boost_round= 5,\n",
    "    evals= [(valid, 'validation')],\n",
    "    early_stopping_rounds= 3)"
   ]
  },
  {
   "attachments": {
    "image.png": {
     "image/png": "[encoded data removed]"
    }
   },
   "cell_type": "markdown",
   "id": "7f2123dc",
   "metadata": {},
   "source": [
    "# 2.4 Model Registry\n",
    "\n",
    "![image.png](attachment:image.png)\n",
    "\n",
    "\n",
    "[Neptune ML experimentation blog](https://neptune.ai/blog/ml-experiment-tracking)"
   ]
  },
  {
   "cell_type": "code",
   "execution_count": 34,
   "id": "2082c51a",
   "metadata": {},
   "outputs": [
    {
     "name": "stderr",
     "output_type": "stream",
     "text": [
      "2024/05/21 20:43:22 WARNING mlflow.xgboost: Failed to log dataset information to MLflow Tracking. Reason: Unable to allocate 233. GiB for an array with shape (2855951, 21910) and data type float32\n",
      "/home/wsl/mlops-zoomcamp/mlz_env/lib/python3.10/site-packages/xgboost/core.py:160: UserWarning: [20:43:22] WARNING: /workspace/src/objective/regression_obj.cu:209: reg:linear is now deprecated in favor of reg:squarederror.\n",
      "  warnings.warn(smsg, UserWarning)\n"
     ]
    },
    {
     "name": "stdout",
     "output_type": "stream",
     "text": [
      "[0]\tvalidation-rmse:6.06344\n",
      "[1]\tvalidation-rmse:5.01960\n",
      "[2]\tvalidation-rmse:4.79520\n",
      "[3]\tvalidation-rmse:4.74219\n",
      "[4]\tvalidation-rmse:4.72329\n"
     ]
    },
    {
     "name": "stderr",
     "output_type": "stream",
     "text": [
      "2024/05/21 20:43:43 WARNING mlflow.xgboost: Failed to infer model signature: could not sample data to infer model signature: please ensure that autologging is enabled before constructing the dataset.\n",
      "2024/05/21 20:43:43 WARNING mlflow.utils.autologging_utils: MLflow autologging encountered a warning: \"/home/wsl/mlops-zoomcamp/mlz_env/lib/python3.10/site-packages/xgboost/core.py:160: UserWarning: [20:43:43] WARNING: /workspace/src/c_api/c_api.cc:1240: Saving into deprecated binary model format, please consider using `json` or `ubj`. Model format will default to JSON in XGBoost 2.2 if not specified.\"\n",
      "/home/wsl/mlops-zoomcamp/mlz_env/lib/python3.10/site-packages/xgboost/core.py:160: UserWarning: [20:43:44] WARNING: /workspace/src/c_api/c_api.cc:1240: Saving into deprecated binary model format, please consider using `json` or `ubj`. Model format will default to JSON in XGBoost 2.2 if not specified.\n",
      "  warnings.warn(smsg, UserWarning)\n"
     ]
    },
    {
     "data": {
      "text/plain": [
       "<mlflow.models.model.ModelInfo at 0x7f5defe93ac0>"
      ]
     },
     "execution_count": 34,
     "metadata": {},
     "output_type": "execute_result"
    }
   ],
   "source": [
    "model2 = xgb.train(\n",
    "    params = final_params,\n",
    "    dtrain= train,\n",
    "    num_boost_round= 5,\n",
    "    evals= [(valid, 'validation')],\n",
    "    early_stopping_rounds= 3)\n",
    "\n",
    "mlflow.xgboost.log_model(model2, artifact_path= 'xgb_model')"
   ]
  },
  {
   "cell_type": "code",
   "execution_count": 35,
   "id": "a80b8215",
   "metadata": {},
   "outputs": [],
   "source": [
    "dv_path = 'models/preprocessor.b'\n",
    "with open(dv_path , 'wb') as fout:\n",
    "    pickle.dump(dv, fout)\n",
    "    \n",
    "mlflow.log_artifact(local_path= dv_path, artifact_path= \"xgb_model\")"
   ]
  },
  {
   "cell_type": "code",
   "execution_count": null,
   "id": "5c7b6fac",
   "metadata": {},
   "outputs": [],
   "source": []
  }
 ],
 "metadata": {
  "kernelspec": {
   "display_name": "Python 3 (ipykernel)",
   "language": "python",
   "name": "python3"
  },
  "language_info": {
   "codemirror_mode": {
    "name": "ipython",
    "version": 3
   },
   "file_extension": ".py",
   "mimetype": "text/x-python",
   "name": "python",
   "nbconvert_exporter": "python",
   "pygments_lexer": "ipython3",
   "version": "3.10.12"
  }
 },
 "nbformat": 4,
 "nbformat_minor": 5
}
